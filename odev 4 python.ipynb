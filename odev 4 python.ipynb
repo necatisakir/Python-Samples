{
 "cells": [
  {
   "cell_type": "code",
   "execution_count": null,
   "metadata": {},
   "outputs": [],
   "source": [
    "yy = open ('insan_siiri.txt', 'r')\n",
    "dizeler = list(yy.readlines())\n",
    "print(\"'insan' siirinin dize sayisi : {}\".format(len(dizeler)))\n",
    "xx = open ('insan_ilkkelimeler.txt', 'w')\n",
    "for i in dizeler:\n",
    "    kelime = list(i)\n",
    "    xx.write('\\n')\n",
    "    for ii in kelime[0:kelime.index(' ')]:\n",
    "        xx.write(ii)\n",
    "yy.close()\n",
    "xx.close()"
   ]
  },
  {
   "cell_type": "code",
   "execution_count": null,
   "metadata": {},
   "outputs": [],
   "source": [
    "def asal():\n",
    "    x=int(input('Bir sayi Girelim : '))\n",
    "    say=0\n",
    "    for ix in range(1,x+1):\n",
    "        if x%ix==0 :say+=1\n",
    "        else :say=say+0\n",
    "    if say<3:print('{} bir asal sayidir. '.format(x))\n",
    "    else :print('{} asal bir sayi degildir.'.format(x))\n",
    "    return\n",
    "asal()   "
   ]
  },
  {
   "cell_type": "code",
   "execution_count": null,
   "metadata": {
    "scrolled": true
   },
   "outputs": [],
   "source": [
    "def birlesim_kumesi():\n",
    "    r=int(input('Sayilardan olusacak listenizin kac elemani olsun? :'))\n",
    "    buyuk_liste=[]\n",
    "    kucuk_liste=[]\n",
    "    for v in range(0,r) :\n",
    "        liste_eleman=int(input('Bir Sayi Gir :'))\n",
    "        buyuk_liste.append(liste_eleman)\n",
    "    buyuk_liste.sort()\n",
    "    print(buyuk_liste)\n",
    "    kucuk_liste=[buyuk_liste[0]]\n",
    "    say=0\n",
    "    for y in buyuk_liste[1:]:\n",
    "        if y!=buyuk_liste[say]:\n",
    "            kucuk_liste.append(buyuk_liste[say+1])\n",
    "            say+=1\n",
    "        else : say+=1\n",
    "    return print(kucuk_liste)\n",
    "\n",
    "birlesim_kumesi()"
   ]
  },
  {
   "cell_type": "code",
   "execution_count": null,
   "metadata": {},
   "outputs": [],
   "source": [
    "def yas_hesap():\n",
    "    import datetime as dt\n",
    "    x=dt.datetime.now()\n",
    "    yil=int(input('Dogum Yiliniz : '))\n",
    "    ay=int(input('Kacinci Ay : '))\n",
    "    gun=int(input('Ayin Kacinci Gunu : '))\n",
    "    y=dt.datetime(yil,ay,gun)\n",
    "    yas=int(x.year)-int(y.strftime(\"%Y\"))\n",
    "    return print ('Yasiniz : {}'.format(yas))\n",
    "yas_hesap()"
   ]
  },
  {
   "cell_type": "code",
   "execution_count": null,
   "metadata": {},
   "outputs": [],
   "source": []
  }
 ],
 "metadata": {
  "kernelspec": {
   "display_name": "Python 3",
   "language": "python",
   "name": "python3"
  },
  "language_info": {
   "codemirror_mode": {
    "name": "ipython",
    "version": 3
   },
   "file_extension": ".py",
   "mimetype": "text/x-python",
   "name": "python",
   "nbconvert_exporter": "python",
   "pygments_lexer": "ipython3",
   "version": "3.7.3"
  }
 },
 "nbformat": 4,
 "nbformat_minor": 2
}
