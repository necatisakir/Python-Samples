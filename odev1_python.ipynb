{
 "cells": [
  {
   "cell_type": "code",
   "execution_count": 28,
   "metadata": {},
   "outputs": [
    {
     "name": "stdout",
     "output_type": "stream",
     "text": [
      "cevap:  2210.6814074060803\n"
     ]
    }
   ],
   "source": [
    "ana = 1000 # parayi yatırdığımız ilk gün (pazartesi)\n",
    "ana = ana*12/100+ana # kâr ettiğimiz birinci gün (salı)\n",
    "ana = ana*12/100+ana # kâr ettiğimiz ikinci gün (çarşamba)\n",
    "ana = ana*12/100+ana # kâr ettiğimiz üçüncü gün (perşembe)\n",
    "ana = ana*12/100+ana # kâr ettiğimiz dördüncü gün (cuma)\n",
    "ana = ana*12/100+ana # kâr ettiğimiz beşinci gün (cumartesi)\n",
    "ana = ana*12/100+ana # kâr ettiğimiz altıncı gün (pazar)\n",
    "ana = ana*12/100+ana # kâr ettiğimiz yedinci gün (pazartesi)\n",
    "print ('cevap: ', ana)\n",
    "\n",
    "# biraz amele işi kodlama oldu galiba. bir formülü ve 1-2 satırlık kodu kesin vardır. 'döngüler' ve \n",
    "#'if'li yapılarla daha kolay olur gibi sanki :)"
   ]
  },
  {
   "cell_type": "code",
   "execution_count": null,
   "metadata": {},
   "outputs": [],
   "source": []
  }
 ],
 "metadata": {
  "kernelspec": {
   "display_name": "Python 3",
   "language": "python",
   "name": "python3"
  },
  "language_info": {
   "codemirror_mode": {
    "name": "ipython",
    "version": 3
   },
   "file_extension": ".py",
   "mimetype": "text/x-python",
   "name": "python",
   "nbconvert_exporter": "python",
   "pygments_lexer": "ipython3",
   "version": "3.7.3"
  }
 },
 "nbformat": 4,
 "nbformat_minor": 2
}
