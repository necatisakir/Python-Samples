{
 "cells": [
  {
   "cell_type": "code",
   "execution_count": 3,
   "metadata": {},
   "outputs": [
    {
     "name": "stdout",
     "output_type": "stream",
     "text": [
      "{1: 'pazartesi', 2: 'sali', 3: 'carsamba', 4: 'persembe', 5: 'cuma', 6: 'cumartesi', 7: 'pazar'} \n",
      "\n",
      "Silmek Istediginiz Gunun Numarasini Girin :4\n",
      "Silmek Istediginiz Diger Gunun Numarasini Girin :5\n",
      "dict_values(['pazartesi', 'sali', 'carsamba', 'cumartesi', 'pazar'])\n"
     ]
    }
   ],
   "source": [
    "hafta = {\n",
    "    1 : 'pazartesi',\n",
    "    2 : 'sali',\n",
    "    3 : 'carsamba',\n",
    "    4 : 'persembe',\n",
    "    5 : 'cuma',\n",
    "    6 : 'cumartesi',\n",
    "    7 : 'pazar'\n",
    "}\n",
    "print(hafta, '\\n')\n",
    "a = input('Silmek Istediginiz Gunun Numarasini Girin :')\n",
    "b = input('Silmek Istediginiz Diger Gunun Numarasini Girin :')\n",
    "a = int(a)\n",
    "b = int(b)\n",
    "del hafta[a]\n",
    "del hafta[b]\n",
    "print(hafta.values())"
   ]
  },
  {
   "cell_type": "code",
   "execution_count": 24,
   "metadata": {},
   "outputs": [
    {
     "name": "stdout",
     "output_type": "stream",
     "text": [
      "[('eylul', 30), ('ekim', 31), ('kasim', 30), ('aralik', 31), ('ocak', 31), ('subat', 28), ('mart', 31), ('nisan', 30), ('mayis', 31), ('haziran', 30), ('temmuz', 31), ('agustos', 31)]\n"
     ]
    }
   ],
   "source": [
    "kume_aylar = {\n",
    "    'eylul' : 30, \n",
    "    'ekim' : 31, \n",
    "    'kasim' : 30, \n",
    "    'aralik' : 31,\n",
    "    'ocak' : 31, \n",
    "    'subat' : 28, \n",
    "    'mart' : 31, \n",
    "    'nisan' : 30, \n",
    "    'mayis' : 31, \n",
    "    'haziran' : 30, \n",
    "    'temmuz' : 31,\n",
    "    'agustos' : 31\n",
    "\n",
    "} #umarim dogru anlamisimdir. \n",
    "liste_aylar = list(kume_aylar.items())\n",
    "print(liste_aylar)"
   ]
  },
  {
   "cell_type": "code",
   "execution_count": 25,
   "metadata": {},
   "outputs": [
    {
     "name": "stdout",
     "output_type": "stream",
     "text": [
      "[['eylul', 'ekim', 'kasim', 'aralik', 'ocak', 'subat', 'mart', 'nisan', 'mayis', 'haziran', 'temmuz', 'agustos'], [30, 31, 30, 31, 31, 28, 31, 30, 31, 30, 31, 31]]\n"
     ]
    }
   ],
   "source": [
    "#soruyu tam anlayamadim. 'aylar' ayri bir liste, 'gun' sayilari ayri bir liste ve bu ikisi tek bir listeye....\n",
    "t=dict(liste_aylar)\n",
    "ay=t.keys()\n",
    "gun=t.values()\n",
    "say = list(ay)\n",
    "sgun = list(gun)\n",
    "aylar_gunler = [say, sgun]\n",
    "print(aylar_gunler)"
   ]
  },
  {
   "cell_type": "code",
   "execution_count": 32,
   "metadata": {},
   "outputs": [
    {
     "name": "stdout",
     "output_type": "stream",
     "text": [
      "sonbahar mevsimi : ['eylul', 'ekim', 'kasim']\n",
      "kis mevsimi : ['aralik', 'ocak', 'subat']\n",
      "ilkbahar mevsimi : ['mart', 'nisan', 'mayis']\n",
      "yaz mevsimi : ['haziran', 'temmuz', 'agustos']\n"
     ]
    }
   ],
   "source": [
    "sonbahar = say[0:3]\n",
    "kis = say[3:6]\n",
    "ilkbahar = say[6:9]\n",
    "yaz = say[9:12]\n",
    "print('sonbahar mevsimi :', sonbahar)\n",
    "print('kis mevsimi :', kis)\n",
    "print('ilkbahar mevsimi :', ilkbahar)\n",
    "print('yaz mevsimi :', yaz)"
   ]
  },
  {
   "cell_type": "code",
   "execution_count": 30,
   "metadata": {},
   "outputs": [
    {
     "name": "stdout",
     "output_type": "stream",
     "text": [
      "yaz mevsimi 92 gun ceker\n"
     ]
    }
   ],
   "source": [
    "yazgun = sgun[9] + sgun[10] + sgun[11]\n",
    "print('yaz mevsimi {} gun ceker'.format(yazgun))"
   ]
  }
 ],
 "metadata": {
  "kernelspec": {
   "display_name": "Python 3",
   "language": "python",
   "name": "python3"
  },
  "language_info": {
   "codemirror_mode": {
    "name": "ipython",
    "version": 3
   },
   "file_extension": ".py",
   "mimetype": "text/x-python",
   "name": "python",
   "nbconvert_exporter": "python",
   "pygments_lexer": "ipython3",
   "version": "3.7.3"
  }
 },
 "nbformat": 4,
 "nbformat_minor": 2
}
