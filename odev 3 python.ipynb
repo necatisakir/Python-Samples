{
 "cells": [
  {
   "cell_type": "code",
   "execution_count": null,
   "metadata": {},
   "outputs": [],
   "source": [
    "print('Fahrenheit ve Celsius Sicaklik Ceviricisi', '\\n')\n",
    "print('Gireceginiz Sicaklik Birimini Seciniz', '\\n')\n",
    "birim = input('Fahrenheit Icin F, Celsius Icin C Giriniz :')\n",
    "b = birim.lower()\n",
    "sicaklik = int(input('Sicaklik Degeri Giriniz :'))\n",
    "if b == 'c': \n",
    "    fh = sicaklik*(9/5) + 32\n",
    "    print('{}C ===> {}F'.format(sicaklik, fh))\n",
    "elif b == 'f' : \n",
    "    cs = (5/9) * (sicaklik-32)\n",
    "    print('{}F ===> {}C'.format(sicaklik, cs))"
   ]
  },
  {
   "cell_type": "code",
   "execution_count": null,
   "metadata": {},
   "outputs": [],
   "source": [
    "isim = input('Tersten Yazdirmak Istediginiz Kelimeyi Girin :')\n",
    "bb = list(isim)\n",
    "bb.reverse()\n",
    "#for xx in bb:\n",
    "print(''.join(bb))"
   ]
  },
  {
   "cell_type": "code",
   "execution_count": null,
   "metadata": {},
   "outputs": [],
   "source": [
    "fibo = [1, 1]\n",
    "for ss in range(2,10):\n",
    "    a = fibo[ss-1] + fibo[ss-2]\n",
    "    fibo.append(a)\n",
    "print(fibo)"
   ]
  },
  {
   "cell_type": "code",
   "execution_count": null,
   "metadata": {},
   "outputs": [],
   "source": [
    "ct = int(input('Carpim Tablosu Icin 1-9 Arasi Bir Sayi Girin :'))\n",
    "for tekrar in range(1,11) :\n",
    "    sonuc = ct*tekrar\n",
    "    print('%d x %d = %d' % (ct, tekrar, sonuc), '\\n')"
   ]
  },
  {
   "cell_type": "code",
   "execution_count": null,
   "metadata": {},
   "outputs": [],
   "source": [
    "yeni_liste = [x**3 if x%2==0 else x**2 for x in range(1,21)]\n",
    "print(yeni_liste)"
   ]
  },
  {
   "cell_type": "code",
   "execution_count": null,
   "metadata": {},
   "outputs": [],
   "source": []
  }
 ],
 "metadata": {
  "kernelspec": {
   "display_name": "Python 3",
   "language": "python",
   "name": "python3"
  },
  "language_info": {
   "codemirror_mode": {
    "name": "ipython",
    "version": 3
   },
   "file_extension": ".py",
   "mimetype": "text/x-python",
   "name": "python",
   "nbconvert_exporter": "python",
   "pygments_lexer": "ipython3",
   "version": "3.7.3"
  }
 },
 "nbformat": 4,
 "nbformat_minor": 2
}
