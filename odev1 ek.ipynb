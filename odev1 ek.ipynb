{
 "cells": [
  {
   "cell_type": "code",
   "execution_count": 5,
   "metadata": {},
   "outputs": [
    {
     "name": "stdout",
     "output_type": "stream",
     "text": [
      "ana para :1000\n",
      "gun sayisi :7\n",
      "kar orani %... :12\n",
      "paramiz 7 gunde  %12 karla 2210.6814074060803 dolar eder\n"
     ]
    }
   ],
   "source": [
    "#donguler konusuna gelince ilk odevi bir kez daha yapayim dedim.\n",
    "ana1 = int(input('ana para :'))\n",
    "v = int(input('gun sayisi :'))\n",
    "kar = int(input('kar orani %... :'))\n",
    "vade = list(range(v))\n",
    "for tekrar in vade :\n",
    "    ana1 = ana1*kar/100+ana1\n",
    "print ('paramiz {} gunde  %{} karla {} dolar eder'.format(v, kar, ana1))"
   ]
  }
 ],
 "metadata": {
  "kernelspec": {
   "display_name": "Python 3",
   "language": "python",
   "name": "python3"
  },
  "language_info": {
   "codemirror_mode": {
    "name": "ipython",
    "version": 3
   },
   "file_extension": ".py",
   "mimetype": "text/x-python",
   "name": "python",
   "nbconvert_exporter": "python",
   "pygments_lexer": "ipython3",
   "version": "3.7.3"
  }
 },
 "nbformat": 4,
 "nbformat_minor": 2
}
